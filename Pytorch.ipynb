{
  "nbformat": 4,
  "nbformat_minor": 0,
  "metadata": {
    "colab": {
      "name": "Pytorch.ipynb",
      "provenance": []
    },
    "kernelspec": {
      "name": "python3",
      "display_name": "Python 3"
    }
  },
  "cells": [
    {
      "cell_type": "code",
      "metadata": {
        "id": "WBmeWC8LPpjE",
        "colab_type": "code",
        "colab": {}
      },
      "source": [
        "import torch\n",
        "import torch.nn as nn\n",
        "import torch.nn.functional as F\n",
        "\n",
        "import pandas as pd\n",
        "import numpy as np"
      ],
      "execution_count": 0,
      "outputs": []
    },
    {
      "cell_type": "code",
      "metadata": {
        "id": "JWSJB1CJ4xMa",
        "colab_type": "code",
        "colab": {}
      },
      "source": [
        "############################################### Creation of neural network with Pytorch ##########################################################\n",
        "'''\n",
        "\n",
        "PyTorch is an open source machine learning library based on the Torch library, used in computer vision problems\n",
        "and natural language processing developed by Facebook.\n",
        "\n",
        "For this example, the base of california_housing_train will be used, which contains a set of characteristics (*) with average price per house:\n",
        "\n",
        "(*):\n",
        "longitude\t\n",
        "latitude\t\n",
        "housing_median_age\t\n",
        "total_rooms\t\n",
        "total_bedrooms\t\n",
        "population\t\n",
        "households\t\n",
        "median_income\t\n",
        "median_house_value\t\n",
        "ocean_proximity\t\n",
        "\n",
        "\n",
        "The idea is to predict prices for new data.\n",
        "'''"
      ],
      "execution_count": 0,
      "outputs": []
    },
    {
      "cell_type": "code",
      "metadata": {
        "id": "BxW9roj_QkfV",
        "colab_type": "code",
        "colab": {}
      },
      "source": [
        "#carregar base treino e teste\n",
        "data_treino = pd.read_csv('/content/sample_data/california_housing_train.csv')\n",
        "data_teste = pd.read_csv('/content/sample_data/california_housing_test.csv')\n"
      ],
      "execution_count": 0,
      "outputs": []
    },
    {
      "cell_type": "code",
      "metadata": {
        "id": "W_dygDh2R5Ck",
        "colab_type": "code",
        "colab": {}
      },
      "source": [
        "X = data_treino.drop('median_house_value',axis=1)\n",
        "y = data_treino['median_house_value'] "
      ],
      "execution_count": 0,
      "outputs": []
    },
    {
      "cell_type": "code",
      "metadata": {
        "id": "d-UyeRDuS7OL",
        "colab_type": "code",
        "colab": {}
      },
      "source": [
        "#struct neural network\n",
        "\n",
        "class Net(nn.Module):\n",
        "\n",
        "  def __init__(self):\n",
        "    super(Net, self).__init__()\n",
        "\n",
        "    #layer\n",
        "    self.fc1 = nn.Linear(8,100) # 8 input neurons and 100 output\n",
        "    self.fc2 = nn.Linear(100,100) # 100 input neurons and 100 output\n",
        "    self.out = nn.Linear(100,1) # 100 input neurons and 1 output\n",
        "  \n",
        "\n",
        "  \n",
        "  def forward(self,x):\n",
        "    x = F.normalize(x) #Normalize vetor\n",
        "    x = F.relu(self.fc1(x)) #Activation Function\n",
        "    x = F.relu(self.fc2(x)) \n",
        "\n",
        "    y = self.out(x)\n",
        "\n",
        "    return y\n"
      ],
      "execution_count": 0,
      "outputs": []
    },
    {
      "cell_type": "code",
      "metadata": {
        "id": "5GnAJjwBXUUS",
        "colab_type": "code",
        "outputId": "35a38f27-dcbe-4c64-df62-fae6080f63ba",
        "colab": {
          "base_uri": "https://localhost:8080/",
          "height": 102
        }
      },
      "source": [
        "net = Net()\n",
        "print(net)"
      ],
      "execution_count": 29,
      "outputs": [
        {
          "output_type": "stream",
          "text": [
            "Net(\n",
            "  (fc1): Linear(in_features=8, out_features=100, bias=True)\n",
            "  (fc2): Linear(in_features=100, out_features=100, bias=True)\n",
            "  (out): Linear(in_features=100, out_features=1, bias=True)\n",
            ")\n"
          ],
          "name": "stdout"
        }
      ]
    },
    {
      "cell_type": "code",
      "metadata": {
        "id": "NDhzaZ4aXxTC",
        "colab_type": "code",
        "colab": {}
      },
      "source": [
        "#Train\n",
        "X_tensor = torch.from_numpy(data_treino.values[:,:-1]).float()\n",
        "Y_tensor = torch.from_numpy(data_treino.values[:,-1]).float()\n",
        "\n",
        "Y_tensor = torch.log(Y_tensor)"
      ],
      "execution_count": 0,
      "outputs": []
    },
    {
      "cell_type": "code",
      "metadata": {
        "id": "tMbQ3ypAYDmt",
        "colab_type": "code",
        "colab": {}
      },
      "source": [
        "#Optimizer\n",
        "import torch.optim as optim\n",
        "optimizer = optim.Adam(net.parameters(),lr=0.001)#parametros da rede\n"
      ],
      "execution_count": 0,
      "outputs": []
    },
    {
      "cell_type": "code",
      "metadata": {
        "id": "ojfCkrWoZa9-",
        "colab_type": "code",
        "colab": {}
      },
      "source": [
        "#loss function\n",
        "criterion = nn.MSELoss()"
      ],
      "execution_count": 0,
      "outputs": []
    },
    {
      "cell_type": "code",
      "metadata": {
        "id": "NzYD4d49ZowJ",
        "colab_type": "code",
        "outputId": "0b4b6986-a9f1-4c53-c0fa-c8f77653aba6",
        "colab": {
          "base_uri": "https://localhost:8080/",
          "height": 1000
        }
      },
      "source": [
        "for i in range(200):\n",
        "  optimizer.zero_grad()\n",
        "  prediction = net(X_tensor)\n",
        "  loss = criterion(prediction, Y_tensor)\n",
        "  loss.backward() #derive and return the gradients\n",
        "  optimizer.step()\n",
        "\n",
        "  prediction2 = torch.exp(net(X_tensor))\n",
        "  loss = criterion(prediction2, torch.exp(Y_tensor))\n",
        "\n",
        "  print(\"Loss Monitor:\", torch.sqrt(loss))"
      ],
      "execution_count": 36,
      "outputs": [
        {
          "output_type": "stream",
          "text": [
            "/usr/local/lib/python3.6/dist-packages/torch/nn/modules/loss.py:432: UserWarning: Using a target size (torch.Size([17000])) that is different to the input size (torch.Size([17000, 1])). This will likely lead to incorrect results due to broadcasting. Please ensure they have the same size.\n",
            "  return F.mse_loss(input, target, reduction=self.reduction)\n"
          ],
          "name": "stderr"
        },
        {
          "output_type": "stream",
          "text": [
            "Monitor de loss: tensor(236268.5938, grad_fn=<SqrtBackward>)\n",
            "Monitor de loss: tensor(236268.5938, grad_fn=<SqrtBackward>)\n",
            "Monitor de loss: tensor(236268.5938, grad_fn=<SqrtBackward>)\n",
            "Monitor de loss: tensor(236268.5938, grad_fn=<SqrtBackward>)\n",
            "Monitor de loss: tensor(236268.5781, grad_fn=<SqrtBackward>)\n",
            "Monitor de loss: tensor(236268.5469, grad_fn=<SqrtBackward>)\n",
            "Monitor de loss: tensor(236268.5469, grad_fn=<SqrtBackward>)\n",
            "Monitor de loss: tensor(236268.5000, grad_fn=<SqrtBackward>)\n",
            "Monitor de loss: tensor(236268.4219, grad_fn=<SqrtBackward>)\n",
            "Monitor de loss: tensor(236268.4219, grad_fn=<SqrtBackward>)\n",
            "Monitor de loss: tensor(236268.4219, grad_fn=<SqrtBackward>)\n",
            "Monitor de loss: tensor(236268.4062, grad_fn=<SqrtBackward>)\n",
            "Monitor de loss: tensor(236268.4062, grad_fn=<SqrtBackward>)\n",
            "Monitor de loss: tensor(236268.3438, grad_fn=<SqrtBackward>)\n",
            "Monitor de loss: tensor(236268.1406, grad_fn=<SqrtBackward>)\n",
            "Monitor de loss: tensor(236268., grad_fn=<SqrtBackward>)\n",
            "Monitor de loss: tensor(236267.9219, grad_fn=<SqrtBackward>)\n",
            "Monitor de loss: tensor(236267.7969, grad_fn=<SqrtBackward>)\n",
            "Monitor de loss: tensor(236267.7344, grad_fn=<SqrtBackward>)\n",
            "Monitor de loss: tensor(236267.5938, grad_fn=<SqrtBackward>)\n",
            "Monitor de loss: tensor(236266.7344, grad_fn=<SqrtBackward>)\n",
            "Monitor de loss: tensor(236263.3438, grad_fn=<SqrtBackward>)\n",
            "Monitor de loss: tensor(236262.3281, grad_fn=<SqrtBackward>)\n",
            "Monitor de loss: tensor(236262.1719, grad_fn=<SqrtBackward>)\n",
            "Monitor de loss: tensor(236261.4062, grad_fn=<SqrtBackward>)\n",
            "Monitor de loss: tensor(236257.4844, grad_fn=<SqrtBackward>)\n",
            "Monitor de loss: tensor(236253.7656, grad_fn=<SqrtBackward>)\n",
            "Monitor de loss: tensor(236250.8281, grad_fn=<SqrtBackward>)\n",
            "Monitor de loss: tensor(236249.9375, grad_fn=<SqrtBackward>)\n",
            "Monitor de loss: tensor(236247.0156, grad_fn=<SqrtBackward>)\n",
            "Monitor de loss: tensor(236240.7188, grad_fn=<SqrtBackward>)\n",
            "Monitor de loss: tensor(236239.4688, grad_fn=<SqrtBackward>)\n",
            "Monitor de loss: tensor(236237.1875, grad_fn=<SqrtBackward>)\n",
            "Monitor de loss: tensor(236233.5469, grad_fn=<SqrtBackward>)\n",
            "Monitor de loss: tensor(236225.8438, grad_fn=<SqrtBackward>)\n",
            "Monitor de loss: tensor(236208.2344, grad_fn=<SqrtBackward>)\n",
            "Monitor de loss: tensor(236192.1094, grad_fn=<SqrtBackward>)\n",
            "Monitor de loss: tensor(236169.5938, grad_fn=<SqrtBackward>)\n",
            "Monitor de loss: tensor(236146.6562, grad_fn=<SqrtBackward>)\n",
            "Monitor de loss: tensor(236124.4688, grad_fn=<SqrtBackward>)\n",
            "Monitor de loss: tensor(236082.5469, grad_fn=<SqrtBackward>)\n",
            "Monitor de loss: tensor(236027.9844, grad_fn=<SqrtBackward>)\n",
            "Monitor de loss: tensor(235974.5469, grad_fn=<SqrtBackward>)\n",
            "Monitor de loss: tensor(235902.6250, grad_fn=<SqrtBackward>)\n",
            "Monitor de loss: tensor(235791.8281, grad_fn=<SqrtBackward>)\n",
            "Monitor de loss: tensor(235464.7031, grad_fn=<SqrtBackward>)\n",
            "Monitor de loss: tensor(235028.4062, grad_fn=<SqrtBackward>)\n",
            "Monitor de loss: tensor(234705.9219, grad_fn=<SqrtBackward>)\n",
            "Monitor de loss: tensor(234334.7500, grad_fn=<SqrtBackward>)\n",
            "Monitor de loss: tensor(233835.4062, grad_fn=<SqrtBackward>)\n",
            "Monitor de loss: tensor(233164.4531, grad_fn=<SqrtBackward>)\n",
            "Monitor de loss: tensor(232236., grad_fn=<SqrtBackward>)\n",
            "Monitor de loss: tensor(230997.9219, grad_fn=<SqrtBackward>)\n",
            "Monitor de loss: tensor(229326.5625, grad_fn=<SqrtBackward>)\n",
            "Monitor de loss: tensor(227162.2031, grad_fn=<SqrtBackward>)\n",
            "Monitor de loss: tensor(224138.1250, grad_fn=<SqrtBackward>)\n",
            "Monitor de loss: tensor(220042.6250, grad_fn=<SqrtBackward>)\n",
            "Monitor de loss: tensor(214432.1250, grad_fn=<SqrtBackward>)\n",
            "Monitor de loss: tensor(207130.1719, grad_fn=<SqrtBackward>)\n",
            "Monitor de loss: tensor(198161., grad_fn=<SqrtBackward>)\n",
            "Monitor de loss: tensor(187423.1250, grad_fn=<SqrtBackward>)\n",
            "Monitor de loss: tensor(174988.2656, grad_fn=<SqrtBackward>)\n",
            "Monitor de loss: tensor(161846.7500, grad_fn=<SqrtBackward>)\n",
            "Monitor de loss: tensor(151360.6094, grad_fn=<SqrtBackward>)\n",
            "Monitor de loss: tensor(148736.6875, grad_fn=<SqrtBackward>)\n",
            "Monitor de loss: tensor(159925.0156, grad_fn=<SqrtBackward>)\n",
            "Monitor de loss: tensor(187204.2812, grad_fn=<SqrtBackward>)\n",
            "Monitor de loss: tensor(227883.9219, grad_fn=<SqrtBackward>)\n",
            "Monitor de loss: tensor(276122.5000, grad_fn=<SqrtBackward>)\n",
            "Monitor de loss: tensor(326805.0625, grad_fn=<SqrtBackward>)\n",
            "Monitor de loss: tensor(373837.8750, grad_fn=<SqrtBackward>)\n",
            "Monitor de loss: tensor(413272.7812, grad_fn=<SqrtBackward>)\n",
            "Monitor de loss: tensor(443318.1562, grad_fn=<SqrtBackward>)\n",
            "Monitor de loss: tensor(461713.7500, grad_fn=<SqrtBackward>)\n",
            "Monitor de loss: tensor(468012.4375, grad_fn=<SqrtBackward>)\n",
            "Monitor de loss: tensor(462909.6875, grad_fn=<SqrtBackward>)\n",
            "Monitor de loss: tensor(448063.5312, grad_fn=<SqrtBackward>)\n",
            "Monitor de loss: tensor(425714.4688, grad_fn=<SqrtBackward>)\n",
            "Monitor de loss: tensor(398175.9688, grad_fn=<SqrtBackward>)\n",
            "Monitor de loss: tensor(367888.0625, grad_fn=<SqrtBackward>)\n",
            "Monitor de loss: tensor(336073.4375, grad_fn=<SqrtBackward>)\n",
            "Monitor de loss: tensor(304133.8750, grad_fn=<SqrtBackward>)\n",
            "Monitor de loss: tensor(274069.7812, grad_fn=<SqrtBackward>)\n",
            "Monitor de loss: tensor(246847.2812, grad_fn=<SqrtBackward>)\n",
            "Monitor de loss: tensor(222152.5156, grad_fn=<SqrtBackward>)\n",
            "Monitor de loss: tensor(201091.2344, grad_fn=<SqrtBackward>)\n",
            "Monitor de loss: tensor(183872.5156, grad_fn=<SqrtBackward>)\n",
            "Monitor de loss: tensor(170094.1094, grad_fn=<SqrtBackward>)\n",
            "Monitor de loss: tensor(159357.5312, grad_fn=<SqrtBackward>)\n",
            "Monitor de loss: tensor(151532.7500, grad_fn=<SqrtBackward>)\n",
            "Monitor de loss: tensor(146105.5625, grad_fn=<SqrtBackward>)\n",
            "Monitor de loss: tensor(142616., grad_fn=<SqrtBackward>)\n",
            "Monitor de loss: tensor(140544.7344, grad_fn=<SqrtBackward>)\n",
            "Monitor de loss: tensor(139496.2344, grad_fn=<SqrtBackward>)\n",
            "Monitor de loss: tensor(139134.2500, grad_fn=<SqrtBackward>)\n",
            "Monitor de loss: tensor(139202.1250, grad_fn=<SqrtBackward>)\n",
            "Monitor de loss: tensor(139512.5312, grad_fn=<SqrtBackward>)\n",
            "Monitor de loss: tensor(139919.7031, grad_fn=<SqrtBackward>)\n",
            "Monitor de loss: tensor(140330.7344, grad_fn=<SqrtBackward>)\n",
            "Monitor de loss: tensor(140685.4219, grad_fn=<SqrtBackward>)\n",
            "Monitor de loss: tensor(140948.0938, grad_fn=<SqrtBackward>)\n",
            "Monitor de loss: tensor(141095.9062, grad_fn=<SqrtBackward>)\n",
            "Monitor de loss: tensor(141116.1406, grad_fn=<SqrtBackward>)\n",
            "Monitor de loss: tensor(141016.7656, grad_fn=<SqrtBackward>)\n",
            "Monitor de loss: tensor(140805.0469, grad_fn=<SqrtBackward>)\n",
            "Monitor de loss: tensor(140493.5469, grad_fn=<SqrtBackward>)\n",
            "Monitor de loss: tensor(140102.6406, grad_fn=<SqrtBackward>)\n",
            "Monitor de loss: tensor(139659.0312, grad_fn=<SqrtBackward>)\n",
            "Monitor de loss: tensor(139177.1875, grad_fn=<SqrtBackward>)\n",
            "Monitor de loss: tensor(138682.5781, grad_fn=<SqrtBackward>)\n",
            "Monitor de loss: tensor(138193.4531, grad_fn=<SqrtBackward>)\n",
            "Monitor de loss: tensor(137719.4062, grad_fn=<SqrtBackward>)\n",
            "Monitor de loss: tensor(137281.5625, grad_fn=<SqrtBackward>)\n",
            "Monitor de loss: tensor(136908.5312, grad_fn=<SqrtBackward>)\n",
            "Monitor de loss: tensor(136582.3750, grad_fn=<SqrtBackward>)\n",
            "Monitor de loss: tensor(136321.9531, grad_fn=<SqrtBackward>)\n",
            "Monitor de loss: tensor(136140.3438, grad_fn=<SqrtBackward>)\n",
            "Monitor de loss: tensor(136012.6719, grad_fn=<SqrtBackward>)\n",
            "Monitor de loss: tensor(135955.9062, grad_fn=<SqrtBackward>)\n",
            "Monitor de loss: tensor(135939.9531, grad_fn=<SqrtBackward>)\n",
            "Monitor de loss: tensor(135956.1094, grad_fn=<SqrtBackward>)\n",
            "Monitor de loss: tensor(136005.1406, grad_fn=<SqrtBackward>)\n",
            "Monitor de loss: tensor(136063.4844, grad_fn=<SqrtBackward>)\n",
            "Monitor de loss: tensor(136126.4688, grad_fn=<SqrtBackward>)\n",
            "Monitor de loss: tensor(136175.4688, grad_fn=<SqrtBackward>)\n",
            "Monitor de loss: tensor(136212.6719, grad_fn=<SqrtBackward>)\n",
            "Monitor de loss: tensor(136227.8125, grad_fn=<SqrtBackward>)\n",
            "Monitor de loss: tensor(136215.4062, grad_fn=<SqrtBackward>)\n",
            "Monitor de loss: tensor(136172.1250, grad_fn=<SqrtBackward>)\n",
            "Monitor de loss: tensor(136100.7500, grad_fn=<SqrtBackward>)\n",
            "Monitor de loss: tensor(135999.7031, grad_fn=<SqrtBackward>)\n",
            "Monitor de loss: tensor(135876.2500, grad_fn=<SqrtBackward>)\n",
            "Monitor de loss: tensor(135730.7031, grad_fn=<SqrtBackward>)\n",
            "Monitor de loss: tensor(135569.7812, grad_fn=<SqrtBackward>)\n",
            "Monitor de loss: tensor(135394.3594, grad_fn=<SqrtBackward>)\n",
            "Monitor de loss: tensor(135214.2031, grad_fn=<SqrtBackward>)\n",
            "Monitor de loss: tensor(135029.9531, grad_fn=<SqrtBackward>)\n",
            "Monitor de loss: tensor(134847.2812, grad_fn=<SqrtBackward>)\n",
            "Monitor de loss: tensor(134671.9844, grad_fn=<SqrtBackward>)\n",
            "Monitor de loss: tensor(134503.0781, grad_fn=<SqrtBackward>)\n",
            "Monitor de loss: tensor(134340.9688, grad_fn=<SqrtBackward>)\n",
            "Monitor de loss: tensor(134196.0938, grad_fn=<SqrtBackward>)\n",
            "Monitor de loss: tensor(134058.7500, grad_fn=<SqrtBackward>)\n",
            "Monitor de loss: tensor(133932.9531, grad_fn=<SqrtBackward>)\n",
            "Monitor de loss: tensor(133816.5156, grad_fn=<SqrtBackward>)\n",
            "Monitor de loss: tensor(133707.5781, grad_fn=<SqrtBackward>)\n",
            "Monitor de loss: tensor(133604.6094, grad_fn=<SqrtBackward>)\n",
            "Monitor de loss: tensor(133508.1094, grad_fn=<SqrtBackward>)\n",
            "Monitor de loss: tensor(133420.8281, grad_fn=<SqrtBackward>)\n",
            "Monitor de loss: tensor(133338.4062, grad_fn=<SqrtBackward>)\n",
            "Monitor de loss: tensor(133260.0312, grad_fn=<SqrtBackward>)\n",
            "Monitor de loss: tensor(133184.0625, grad_fn=<SqrtBackward>)\n",
            "Monitor de loss: tensor(133111.9688, grad_fn=<SqrtBackward>)\n",
            "Monitor de loss: tensor(133040.6719, grad_fn=<SqrtBackward>)\n",
            "Monitor de loss: tensor(132970.1562, grad_fn=<SqrtBackward>)\n",
            "Monitor de loss: tensor(132901.0469, grad_fn=<SqrtBackward>)\n",
            "Monitor de loss: tensor(132829.5312, grad_fn=<SqrtBackward>)\n",
            "Monitor de loss: tensor(132760.2188, grad_fn=<SqrtBackward>)\n",
            "Monitor de loss: tensor(132689.5938, grad_fn=<SqrtBackward>)\n",
            "Monitor de loss: tensor(132620.6719, grad_fn=<SqrtBackward>)\n",
            "Monitor de loss: tensor(132551.7656, grad_fn=<SqrtBackward>)\n",
            "Monitor de loss: tensor(132484.8750, grad_fn=<SqrtBackward>)\n",
            "Monitor de loss: tensor(132414.9844, grad_fn=<SqrtBackward>)\n",
            "Monitor de loss: tensor(132347.7812, grad_fn=<SqrtBackward>)\n",
            "Monitor de loss: tensor(132278.6094, grad_fn=<SqrtBackward>)\n",
            "Monitor de loss: tensor(132211.4062, grad_fn=<SqrtBackward>)\n",
            "Monitor de loss: tensor(132143.9219, grad_fn=<SqrtBackward>)\n",
            "Monitor de loss: tensor(132076.2500, grad_fn=<SqrtBackward>)\n",
            "Monitor de loss: tensor(132008.6250, grad_fn=<SqrtBackward>)\n",
            "Monitor de loss: tensor(131943.4375, grad_fn=<SqrtBackward>)\n",
            "Monitor de loss: tensor(131879.7812, grad_fn=<SqrtBackward>)\n",
            "Monitor de loss: tensor(131814.5469, grad_fn=<SqrtBackward>)\n",
            "Monitor de loss: tensor(131748.1875, grad_fn=<SqrtBackward>)\n",
            "Monitor de loss: tensor(131686.7812, grad_fn=<SqrtBackward>)\n",
            "Monitor de loss: tensor(131624.4375, grad_fn=<SqrtBackward>)\n",
            "Monitor de loss: tensor(131562.6719, grad_fn=<SqrtBackward>)\n",
            "Monitor de loss: tensor(131500.7812, grad_fn=<SqrtBackward>)\n",
            "Monitor de loss: tensor(131437.3750, grad_fn=<SqrtBackward>)\n",
            "Monitor de loss: tensor(131376.3281, grad_fn=<SqrtBackward>)\n",
            "Monitor de loss: tensor(131316.2188, grad_fn=<SqrtBackward>)\n",
            "Monitor de loss: tensor(131256.2031, grad_fn=<SqrtBackward>)\n",
            "Monitor de loss: tensor(131196.1875, grad_fn=<SqrtBackward>)\n",
            "Monitor de loss: tensor(131138.9688, grad_fn=<SqrtBackward>)\n",
            "Monitor de loss: tensor(131081.0469, grad_fn=<SqrtBackward>)\n",
            "Monitor de loss: tensor(131024.6328, grad_fn=<SqrtBackward>)\n",
            "Monitor de loss: tensor(130967.5156, grad_fn=<SqrtBackward>)\n",
            "Monitor de loss: tensor(130911.0781, grad_fn=<SqrtBackward>)\n",
            "Monitor de loss: tensor(130854.1797, grad_fn=<SqrtBackward>)\n",
            "Monitor de loss: tensor(130800.4688, grad_fn=<SqrtBackward>)\n",
            "Monitor de loss: tensor(130747.6328, grad_fn=<SqrtBackward>)\n",
            "Monitor de loss: tensor(130694.4219, grad_fn=<SqrtBackward>)\n",
            "Monitor de loss: tensor(130641.5938, grad_fn=<SqrtBackward>)\n",
            "Monitor de loss: tensor(130590.3047, grad_fn=<SqrtBackward>)\n",
            "Monitor de loss: tensor(130539.7266, grad_fn=<SqrtBackward>)\n",
            "Monitor de loss: tensor(130488.5781, grad_fn=<SqrtBackward>)\n",
            "Monitor de loss: tensor(130438.8906, grad_fn=<SqrtBackward>)\n",
            "Monitor de loss: tensor(130389.7500, grad_fn=<SqrtBackward>)\n",
            "Monitor de loss: tensor(130339.0547, grad_fn=<SqrtBackward>)\n",
            "Monitor de loss: tensor(130290.1406, grad_fn=<SqrtBackward>)\n",
            "Monitor de loss: tensor(130239.9922, grad_fn=<SqrtBackward>)\n"
          ],
          "name": "stdout"
        }
      ]
    },
    {
      "cell_type": "code",
      "metadata": {
        "id": "w-opGCvrcMrj",
        "colab_type": "code",
        "colab": {}
      },
      "source": [
        "#Check with test data\n",
        "X_test_tensor = torch.from_numpy(data_teste.values[:,:-1]).float()\n",
        "Y_test_tensor = torch.from_numpy(data_teste.values[:,-1]).float()"
      ],
      "execution_count": 0,
      "outputs": []
    },
    {
      "cell_type": "code",
      "metadata": {
        "id": "wTlUux310ObI",
        "colab_type": "code",
        "colab": {}
      },
      "source": [
        "prediction_test = torch.exp(net(X_test_tensor))"
      ],
      "execution_count": 0,
      "outputs": []
    },
    {
      "cell_type": "code",
      "metadata": {
        "id": "mPWg30zy0cEv",
        "colab_type": "code",
        "colab": {}
      },
      "source": [
        "prediction_test_np = prediction_test.detach().numpy()"
      ],
      "execution_count": 0,
      "outputs": []
    },
    {
      "cell_type": "code",
      "metadata": {
        "id": "viY9A9q81Yfx",
        "colab_type": "code",
        "colab": {
          "base_uri": "https://localhost:8080/",
          "height": 34
        },
        "outputId": "01c37df3-d36e-4c51-9a59-4eba68070999"
      },
      "source": [
        "#Check the error in relation to the forecast / reality\n",
        "from sklearn.metrics import mean_squared_error\n",
        "y_test = date_teste.values[:,-1]\n",
        "np.sqrt(mean_squared_error(y_test,prediction_test_np))"
      ],
      "execution_count": 40,
      "outputs": [
        {
          "output_type": "execute_result",
          "data": {
            "text/plain": [
              "144283.3843164716"
            ]
          },
          "metadata": {
            "tags": []
          },
          "execution_count": 40
        }
      ]
    },
    {
      "cell_type": "code",
      "metadata": {
        "id": "cJsrojAU2QaZ",
        "colab_type": "code",
        "colab": {}
      },
      "source": [
        ""
      ],
      "execution_count": 0,
      "outputs": []
    }
  ]
}